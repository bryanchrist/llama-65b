{
 "cells": [
  {
   "cell_type": "markdown",
   "id": "faeb9bc9-ca82-49f1-be45-a7d8dd2ea42e",
   "metadata": {},
   "source": [
    "# Parsing LLM Output\n",
    "This notebook takes output from finetuned Llama 65B and parses it to prepare a dataset that will be used for RLHF. "
   ]
  },
  {
   "cell_type": "markdown",
   "id": "413c0b10-e5e0-4757-b155-82967d9a26b6",
   "metadata": {},
   "source": [
    "## Load in output and parse it\n",
    "This block loads in the output, parses it for solution and question, and executes the solution block. It inlcudes Try and Except blocks for cases when the model creates an incomplete output."
   ]
  },
  {
   "cell_type": "code",
   "execution_count": 155,
   "id": "f4d1f7c0-8c9e-449b-a331-1ca86f2b8cea",
   "metadata": {},
   "outputs": [],
   "source": [
    "from pprint import pprint\n",
    "file_path = 'testing_output.txt'\n",
    "#data = []\n",
    "\n",
    "with open(file_path, 'r') as file:\n",
    "    text = file.read()\n",
    "    sections = text.split(\"### Response: \")\n",
    "    del sections[0]  # Remove the initial part before the first question\n",
    "\n",
    "    for section in sections:\n",
    "        try:\n",
    "            question = section.split(\"Question:\")[1].strip()\n",
    "            question = section.split(\"Solution:\")[0].strip()\n",
    "            solution = section.split(\"Solution:\")[1].strip()\n",
    "            solution = solution.split('\\n    return result')[0]\n",
    "            solution = solution + '\\n    return result'\n",
    "            solution_text = solution\n",
    "            try:\n",
    "                # Execute the Python code\n",
    "                exec(solution)\n",
    "                answer = solution()\n",
    "                data.append({\"question\": question, \"solution\": solution_text, 'answer': answer})\n",
    "            except: \n",
    "                try: #pick up questions that did not indent the code block\n",
    "                    solution_new = \"\"\n",
    "                    lines = solution.split('\\n')\n",
    "                    indent = False\n",
    "                    for line in lines:\n",
    "                        if line.startswith('def solution():'):\n",
    "                            solution_new += line + '\\n'\n",
    "                            \n",
    "                        if not line.startswith('def solution():') and not line.startswith('    return result'):\n",
    "                            solution_new += '    ' + line + '\\n'\n",
    "                            \n",
    "                        if line.startswith('    return result'):\n",
    "                            solution_new += line\n",
    "                    solution_text = solution_new\n",
    "                    # Execute the Python code\n",
    "                    exec(solution_new)\n",
    "                    answer = solution()\n",
    "                    data.append({\"question\": question, \"solution\": solution_text, 'answer': answer})\n",
    "                \n",
    "                except: \n",
    "                    pass\n",
    "                    #pass if code doesn't execute\n",
    "        except IndexError:\n",
    "            pass\n",
    "            #pass if there is no solution"
   ]
  },
  {
   "cell_type": "code",
   "execution_count": 156,
   "id": "ad66420f-0d04-490c-94d1-c75770abacac",
   "metadata": {},
   "outputs": [
    {
     "data": {
      "text/plain": [
       "586"
      ]
     },
     "execution_count": 156,
     "metadata": {},
     "output_type": "execute_result"
    }
   ],
   "source": [
    "len(data)"
   ]
  },
  {
   "cell_type": "markdown",
   "id": "d1ab087d-c2ab-49e9-ab8c-87b181cd00d9",
   "metadata": {},
   "source": [
    "## Export as JSON"
   ]
  },
  {
   "cell_type": "code",
   "execution_count": 157,
   "id": "ece876ba-24f1-4f59-95f6-1e1eb992208e",
   "metadata": {},
   "outputs": [
    {
     "name": "stdout",
     "output_type": "stream",
     "text": [
      "Data saved as JSON successfully.\n"
     ]
    }
   ],
   "source": [
    "import json\n",
    "data_path = 'app/questions.json'\n",
    "\n",
    "# Save data as a JSON file\n",
    "with open(data_path, 'w') as json_file:\n",
    "    json.dump(data, json_file, indent=4)\n",
    "\n",
    "print(\"Data saved as JSON successfully.\")"
   ]
  },
  {
   "cell_type": "markdown",
   "id": "0c0e0a7a-5ac3-40cb-8255-eddbbea43877",
   "metadata": {},
   "source": [
    "# Export Data as Text Files for Zooniverse"
   ]
  },
  {
   "cell_type": "code",
   "execution_count": 87,
   "id": "7a81525e-f127-4bba-b89d-c23698cff8cf",
   "metadata": {},
   "outputs": [
    {
     "data": {
      "text/plain": [
       "['Question: The Culinary Institute of America, the best culinary school in the world, opened a new class. 40 people were enrolled in the class. The class ran for 6 months. Each student paid $3000 per month. How much money did the school make from this class?\\nSolution: def solution():\\n    #40 people paid $3000 for 6 months.\\n    class_size = 40\\n    #6 months of schooling cost $3000 a month.\\n    tuition = 3000\\n    class_length = 6\\n    result = class_size * tuition * class_length\\n    \\n    return result\\nAnswer: 720000',\n",
       " \"Question: Melanie has $45. She shops at a grocery store for 2 hours and spends $18. She then goes to a bakery and spends $12. Melanie is thirsty and so she buys a soda for $3. She now has no money left. How much money did Melanie spend per hour at the grocery store?\\nSolution: def solution():\\n    #Melanie started with $45\\n    money_initial = 45\\n    #Melanie spent $18 at the grocery store\\n    grocery_store_spent = 18\\n    #Melanie spent $12 at the bakery\\n    bakery_spent = 12\\n    #Melanie bought a soda for $3\\n    soda_spent = 3\\n    #Melanie's total spending is\\n    total_spent = 18 + 12 + 3\\n    #Melanie has no money left\\n    money_left = 0\\n    #Melanie at the grocery store for 2 hours\\n    grocery_store_time = 2\\n    #Time at the bakery and soda store is 0\\n    bakery_soda_time = 0\\n    #The total time is\\n    total_time = 2 + 0 + 0\\n    #The answer is\\n    result = (grocery_store_spent * total_time) / (money_initial - money_left)\\n    \\n    return result\\nAnswer: 0.8\",\n",
       " \"Question: Dianne is Dunkin' Brands CFO. She has to cut 5% of the budget for donuts and also for the coffee. Donuts cost $1.5 each and coffee cost 50 cents per cup. Dunkin' Brands sells 3.5 million cups of coffee and 2.3 million donuts a day. How much is Dunkin' Brands daily budget for both the donuts and the coffee?\\nSolution: def solution():\\n    #Cut 5% of the budget for donuts and coffee.\\n    percent_cut = 0.05\\n    #Donuts cost $1.5 each and coffee costs 50 cents per cup.\\n    donut_cost = 1.5\\n    coffee_cost = 0.5\\n    #Dunkin sells 3.5 million cups of coffee and 2.3 million donuts daily.\\n    coffee_sold = 3.5\\n    donuts_sold = 2.3\\n    #The total cost for the donuts is\\n    donut_cost_total = donut_cost * donuts_sold\\n    #The total cost for the coffee is \\n    coffee_cost_total = coffee_cost * coffee_sold\\n    #The total daily cost for both is\\n    total_cost = donut_cost_total + coffee_cost_total\\n    #They have to cut 5% of the budget\\n    budget_cut = total_cost * percent_cut\\n    #The total budget without the cut is\\n    total_budget = total_cost - budget_cut\\n    #The answer is\\n    result = total_budget\\n    \\n    return resultAnswer: 4.9399999999999995\",\n",
       " 'Question: The scone cost $4, the muffin cost $3, the donut cost $2, and the croissant cost $3. Max ate two of everything. How much did he pay for breakfast?\\nSolution: def solution():\\n    #The scone cost $4, the muffin cost $3, the donut cost $2, and the croissant cost $3\\n    scone_cost = 4\\n    muffin_cost = 3\\n    donut_cost = 2\\n    croissant_cost = 3\\n    #breakfast items that Max ate \\n    items_eaten = 2\\n    #2 scones cost 2 * 4\\n    scone_cost_items = scone_cost * items_eaten\\n    #2 muffins cost 3 * 2\\n    muffin_cost_items = muffin_cost * items_eaten\\n    #2 donuts cost 2 * 2\\n    donut_cost_items = donut_cost * items_eaten\\n    #2 croissants cost 3 * 2\\n    croissant_cost_items = croissant_cost * items_eaten\\n    #breakfast cost is the cost of each item eaten\\n    breakfast_cost = scone_cost_items + muffin_cost_items + donut_cost_items + croissant_cost_items\\n    #The answer is\\n    result = breakfast_cost\\n    \\n    return resultAnswer: 24',\n",
       " 'Question: 4 pizzas cost $32. 2 pizzas cost $16. How much does 1 pizza cost?\\nSolution: def solution():\\n    # 4 pizzas cost $32\\n    fourPizzas = 32\\n    # 2 pizzas cost $16\\n    twoPizzas = 16\\n    #The difference in cost is the cost of 2 pizzas\\n    costDifference = fourPizzas - twoPizzas\\n    #The answer is\\n    result = costDifference / 2\\n    \\n    return resultAnswer: 8.0',\n",
       " 'Question: Gina is in a candy store that sells 10 gumballs for $1. She has 5 dollars in her pocket. How many gumballs can she buy?\\nSolution: def solution():\\n    #Gina has 5 dollars\\n    money_initial = 5\\n    #10 gumballs cost $1\\n    gumballs_per_dollar = 10\\n    #Gina can buy\\n    result = money_initial / gumballs_per_dollar\\n    \\n    return resultAnswer: 0.5',\n",
       " \"Question: For my 18th birthday, my parents gave me $100. I deposited the money in a bank and earned 10% interest every year. The bank did so well and double everyone's money. Because of my age, I needed a legal guardian to withdraw the money. It took me 2 weeks for my guardian to be appointed which meant I had to pay 2 $500 legal fees. How much money was left in my bank account?\\nSolution: def solution():\\n    #I got $100 for my 18th birthday and earned 10% interest every year\\n    money_initial = 100\\n    interest = 0.1\\n    #I earned interest for 10 years\\n    number_of_years = 10\\n    #My interest was compounded\\n    compounded_interest = True\\n    #I doubled my money and earned $100 + 10*100 * (1 + 0.1) + 100 * 2 = $400 in interest.\\n    money_interest = money_initial * (1 + interest) ** number_of_years\\n    money_doubled = money_initial * 2\\n    #The total in the bank was $400 + $400 + 2*$500 = $<<400+400+2*500=1900>>1900\\n    money_total = money_interest + money_doubled + 500*2\\n    #The answer is\\n    result = money_total\\n    \\n    return resultAnswer: 1459.3742460100002\",\n",
       " 'Question: Chase and his parents are going on a trip to the Wizarding World of Harry Potter and they need to buy plane tickets.  Chase’s dad’s ticket is $275. Chase’s mom’s ticket is $312. Chase is a minor, so his ticket is half the price. The tax on all the tickets together is $170. How much does the plane ticket for Chase’s dad cost?\\nSolution: def solution():\\n    #Chase and his parents are going to\\n    #the Wizarding World of Harry Potter\\n    #and they need to buy plane tickets\\n    #Chase’s dad’s ticket is $275\\n    #Chase’s mom’s ticket is $312\\n    #Chase is a minor, so his ticket is half\\n    #the price\\n    #The tax on all the tickets together\\n    #is $170\\n    #How much does the plane ticket for\\n    #Chase’s dad cost?\\n    dad_ticket = 275\\n    mom_ticket = 312\\n    chase_ticket = dad_ticket / 2\\n    tax = 170\\n    flights_tax_included = dad_ticket + mom_ticket + chase_ticket + tax\\n    dad_ticket_tax_included = flights_tax_included - mom_ticket - chase_ticket - tax\\n    dad_ticket_cost = dad_ticket_tax_included\\n    return dad_ticket_cost\\n    return resultAnswer: 275.0']"
      ]
     },
     "execution_count": 87,
     "metadata": {},
     "output_type": "execute_result"
    }
   ],
   "source": [
    "questions_list = []\n",
    "for i in range(0, len(data)):\n",
    "    questions_list.append(\"Question: \" + data[i]['question'] + \"\\n\" + \"Solution: \" + data[i]['solution'] + \"Answer: \" + str(data[i]['answer']))\n",
    "for i in range(0, len(questions_list)):\n",
    "    #write code to create new text file for each question"
   ]
  },
  {
   "cell_type": "code",
   "execution_count": 84,
   "id": "f53ae0ea-adb6-4b63-8f36-14e5ea383d08",
   "metadata": {},
   "outputs": [
    {
     "data": {
      "text/plain": [
       "8"
      ]
     },
     "execution_count": 84,
     "metadata": {},
     "output_type": "execute_result"
    }
   ],
   "source": [
    "len(data)"
   ]
  },
  {
   "cell_type": "code",
   "execution_count": null,
   "id": "c72027ff-a8e7-464d-8581-7f66be5c884b",
   "metadata": {},
   "outputs": [],
   "source": []
  }
 ],
 "metadata": {
  "kernelspec": {
   "display_name": "Python 3",
   "language": "python",
   "name": "python3"
  },
  "language_info": {
   "codemirror_mode": {
    "name": "ipython",
    "version": 3
   },
   "file_extension": ".py",
   "mimetype": "text/x-python",
   "name": "python",
   "nbconvert_exporter": "python",
   "pygments_lexer": "ipython3",
   "version": "3.8.8"
  }
 },
 "nbformat": 4,
 "nbformat_minor": 5
}
